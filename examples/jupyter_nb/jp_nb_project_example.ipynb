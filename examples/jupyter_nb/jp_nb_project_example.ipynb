{
 "cells": [
  {
   "cell_type": "code",
   "execution_count": 1,
   "metadata": {},
   "outputs": [],
   "source": [
    "from zegami_sdk.client import ZegamiClient"
   ]
  },
  {
   "cell_type": "code",
   "execution_count": 2,
   "metadata": {},
   "outputs": [
    {
     "name": "stdout",
     "output_type": "stream",
     "text": [
      "Used token from '/home/martim-zegami/zegami_com.zegami.token'.\n",
      "Client initialized successfully, welcome .\n",
      "\n"
     ]
    }
   ],
   "source": [
    "zc = ZegamiClient()"
   ]
  },
  {
   "cell_type": "code",
   "execution_count": 3,
   "metadata": {},
   "outputs": [
    {
     "name": "stdout",
     "output_type": "stream",
     "text": [
      "data\t\t  jp_nb_project_example.ipynb  main.py\n",
      "env\t\t  jupyter_nb_ex.ipynb\t       README.md\n",
      "instructions.txt  LICENSE\t\t       requirements.txt\n"
     ]
    }
   ],
   "source": [
    "!ls"
   ]
  },
  {
   "cell_type": "markdown",
   "metadata": {},
   "source": [
    "<iframe src=\"https://zegami.com/collections/GUDe4kRY-62792f0488e4d3d7181d8256?pan=FILTERS_PANEL&view=grid&source=local_world_flags\" width=\"800\" height=\"500\"></iframe>"
   ]
  },
  {
   "cell_type": "code",
   "execution_count": null,
   "metadata": {},
   "outputs": [],
   "source": [
    "# try linking directly to collection"
   ]
  }
 ],
 "metadata": {
  "interpreter": {
   "hash": "17361232fb9bcb0ba5939612f19d0269bf9334e24dd707504afe9bf985e11e05"
  },
  "kernelspec": {
   "display_name": "Python 3.9.12 ('env': venv)",
   "language": "python",
   "name": "python3"
  },
  "language_info": {
   "codemirror_mode": {
    "name": "ipython",
    "version": 3
   },
   "file_extension": ".py",
   "mimetype": "text/x-python",
   "name": "python",
   "nbconvert_exporter": "python",
   "pygments_lexer": "ipython3",
   "version": "3.9.12"
  },
  "orig_nbformat": 4
 },
 "nbformat": 4,
 "nbformat_minor": 2
}
